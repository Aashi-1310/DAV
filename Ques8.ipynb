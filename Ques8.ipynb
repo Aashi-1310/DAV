{
 "cells": [
  {
   "cell_type": "code",
   "execution_count": 1,
   "id": "5c0b425f-ec5d-4552-9a51-b7555f2454b7",
   "metadata": {},
   "outputs": [
    {
     "name": "stdout",
     "output_type": "stream",
     "text": [
      "Collecting openpyxl\n",
      "  Downloading openpyxl-3.1.2-py2.py3-none-any.whl (249 kB)\n",
      "     ---------------------------------------- 0.0/250.0 kB ? eta -:--:--\n",
      "     - -------------------------------------- 10.2/250.0 kB ? eta -:--:--\n",
      "     - -------------------------------------- 10.2/250.0 kB ? eta -:--:--\n",
      "     ---- -------------------------------- 30.7/250.0 kB 262.6 kB/s eta 0:00:01\n",
      "     -------------------------------------  245.8/250.0 kB 1.5 MB/s eta 0:00:01\n",
      "     -------------------------------------- 250.0/250.0 kB 1.4 MB/s eta 0:00:00\n",
      "Collecting et-xmlfile (from openpyxl)\n",
      "  Downloading et_xmlfile-1.1.0-py3-none-any.whl (4.7 kB)\n",
      "Installing collected packages: et-xmlfile, openpyxl\n",
      "Successfully installed et-xmlfile-1.1.0 openpyxl-3.1.2\n",
      "Note: you may need to restart the kernel to use updated packages.\n"
     ]
    },
    {
     "name": "stderr",
     "output_type": "stream",
     "text": [
      "\n",
      "[notice] A new release of pip is available: 23.2.1 -> 23.3.1\n",
      "[notice] To update, run: python.exe -m pip install --upgrade pip\n"
     ]
    }
   ],
   "source": [
    "pip install openpyxl"
   ]
  },
  {
   "cell_type": "code",
   "execution_count": 2,
   "id": "e6a5d925-6bcd-46bf-bdcb-c648aa703f70",
   "metadata": {},
   "outputs": [],
   "source": [
    "import pandas as pd"
   ]
  },
  {
   "cell_type": "code",
   "execution_count": 3,
   "id": "fd5ea9b9-4587-4fc5-a0ef-ae6316d26fcd",
   "metadata": {},
   "outputs": [
    {
     "data": {
      "text/html": [
       "<div>\n",
       "<style scoped>\n",
       "    .dataframe tbody tr th:only-of-type {\n",
       "        vertical-align: middle;\n",
       "    }\n",
       "\n",
       "    .dataframe tbody tr th {\n",
       "        vertical-align: top;\n",
       "    }\n",
       "\n",
       "    .dataframe thead th {\n",
       "        text-align: right;\n",
       "    }\n",
       "</style>\n",
       "<table border=\"1\" class=\"dataframe\">\n",
       "  <thead>\n",
       "    <tr style=\"text-align: right;\">\n",
       "      <th></th>\n",
       "      <th>Name</th>\n",
       "      <th>Gender</th>\n",
       "      <th>MonthlyIncome(Rs.)</th>\n",
       "    </tr>\n",
       "  </thead>\n",
       "  <tbody>\n",
       "    <tr>\n",
       "      <th>0</th>\n",
       "      <td>Shah</td>\n",
       "      <td>Male</td>\n",
       "      <td>114000</td>\n",
       "    </tr>\n",
       "    <tr>\n",
       "      <th>1</th>\n",
       "      <td>Vats</td>\n",
       "      <td>Male</td>\n",
       "      <td>65000</td>\n",
       "    </tr>\n",
       "    <tr>\n",
       "      <th>2</th>\n",
       "      <td>Vats</td>\n",
       "      <td>Female</td>\n",
       "      <td>43150</td>\n",
       "    </tr>\n",
       "    <tr>\n",
       "      <th>3</th>\n",
       "      <td>Kumar</td>\n",
       "      <td>Female</td>\n",
       "      <td>69500</td>\n",
       "    </tr>\n",
       "    <tr>\n",
       "      <th>4</th>\n",
       "      <td>Vats</td>\n",
       "      <td>Female</td>\n",
       "      <td>155000</td>\n",
       "    </tr>\n",
       "    <tr>\n",
       "      <th>5</th>\n",
       "      <td>Kumar</td>\n",
       "      <td>Male</td>\n",
       "      <td>103000</td>\n",
       "    </tr>\n",
       "    <tr>\n",
       "      <th>6</th>\n",
       "      <td>Shah</td>\n",
       "      <td>Male</td>\n",
       "      <td>55000</td>\n",
       "    </tr>\n",
       "    <tr>\n",
       "      <th>7</th>\n",
       "      <td>Shah</td>\n",
       "      <td>Female</td>\n",
       "      <td>112400</td>\n",
       "    </tr>\n",
       "    <tr>\n",
       "      <th>8</th>\n",
       "      <td>Kumar</td>\n",
       "      <td>Female</td>\n",
       "      <td>81030</td>\n",
       "    </tr>\n",
       "    <tr>\n",
       "      <th>9</th>\n",
       "      <td>Vats</td>\n",
       "      <td>Male</td>\n",
       "      <td>71900</td>\n",
       "    </tr>\n",
       "  </tbody>\n",
       "</table>\n",
       "</div>"
      ],
      "text/plain": [
       "    Name  Gender  MonthlyIncome(Rs.)\n",
       "0   Shah    Male              114000\n",
       "1   Vats    Male               65000\n",
       "2   Vats  Female               43150\n",
       "3  Kumar  Female               69500\n",
       "4   Vats  Female              155000\n",
       "5  Kumar    Male              103000\n",
       "6   Shah    Male               55000\n",
       "7   Shah  Female              112400\n",
       "8  Kumar  Female               81030\n",
       "9   Vats    Male               71900"
      ]
     },
     "execution_count": 3,
     "metadata": {},
     "output_type": "execute_result"
    }
   ],
   "source": [
    "data=pd.read_excel(r\"C:\\Users\\hp\\Desktop\\sem05\\DAV\\PRAC\\riddhi\\prac8.xlsx\")\n",
    "data"
   ]
  },
  {
   "cell_type": "code",
   "execution_count": 5,
   "id": "d0335e5d-89b7-4c90-be65-d53db37ac36f",
   "metadata": {},
   "outputs": [
    {
     "data": {
      "text/html": [
       "<div>\n",
       "<style scoped>\n",
       "    .dataframe tbody tr th:only-of-type {\n",
       "        vertical-align: middle;\n",
       "    }\n",
       "\n",
       "    .dataframe tbody tr th {\n",
       "        vertical-align: top;\n",
       "    }\n",
       "\n",
       "    .dataframe thead th {\n",
       "        text-align: right;\n",
       "    }\n",
       "</style>\n",
       "<table border=\"1\" class=\"dataframe\">\n",
       "  <thead>\n",
       "    <tr style=\"text-align: right;\">\n",
       "      <th></th>\n",
       "      <th>Name</th>\n",
       "      <th>Gender</th>\n",
       "      <th>MonthlyIncome(Rs.)</th>\n",
       "    </tr>\n",
       "  </thead>\n",
       "  <tbody>\n",
       "    <tr>\n",
       "      <th>0</th>\n",
       "      <td>Shah</td>\n",
       "      <td>Male</td>\n",
       "      <td>114000</td>\n",
       "    </tr>\n",
       "    <tr>\n",
       "      <th>1</th>\n",
       "      <td>Vats</td>\n",
       "      <td>Male</td>\n",
       "      <td>65000</td>\n",
       "    </tr>\n",
       "    <tr>\n",
       "      <th>2</th>\n",
       "      <td>Vats</td>\n",
       "      <td>Female</td>\n",
       "      <td>43150</td>\n",
       "    </tr>\n",
       "    <tr>\n",
       "      <th>3</th>\n",
       "      <td>Kumar</td>\n",
       "      <td>Female</td>\n",
       "      <td>69500</td>\n",
       "    </tr>\n",
       "    <tr>\n",
       "      <th>4</th>\n",
       "      <td>Vats</td>\n",
       "      <td>Female</td>\n",
       "      <td>155000</td>\n",
       "    </tr>\n",
       "    <tr>\n",
       "      <th>5</th>\n",
       "      <td>Kumar</td>\n",
       "      <td>Male</td>\n",
       "      <td>103000</td>\n",
       "    </tr>\n",
       "    <tr>\n",
       "      <th>6</th>\n",
       "      <td>Shah</td>\n",
       "      <td>Male</td>\n",
       "      <td>55000</td>\n",
       "    </tr>\n",
       "    <tr>\n",
       "      <th>7</th>\n",
       "      <td>Shah</td>\n",
       "      <td>Female</td>\n",
       "      <td>112400</td>\n",
       "    </tr>\n",
       "    <tr>\n",
       "      <th>8</th>\n",
       "      <td>Kumar</td>\n",
       "      <td>Female</td>\n",
       "      <td>81030</td>\n",
       "    </tr>\n",
       "    <tr>\n",
       "      <th>9</th>\n",
       "      <td>Vats</td>\n",
       "      <td>Male</td>\n",
       "      <td>71900</td>\n",
       "    </tr>\n",
       "  </tbody>\n",
       "</table>\n",
       "</div>"
      ],
      "text/plain": [
       "    Name  Gender  MonthlyIncome(Rs.)\n",
       "0   Shah    Male              114000\n",
       "1   Vats    Male               65000\n",
       "2   Vats  Female               43150\n",
       "3  Kumar  Female               69500\n",
       "4   Vats  Female              155000\n",
       "5  Kumar    Male              103000\n",
       "6   Shah    Male               55000\n",
       "7   Shah  Female              112400\n",
       "8  Kumar  Female               81030\n",
       "9   Vats    Male               71900"
      ]
     },
     "execution_count": 5,
     "metadata": {},
     "output_type": "execute_result"
    }
   ],
   "source": [
    "df=pd.DataFrame(data)\n",
    "df"
   ]
  },
  {
   "cell_type": "code",
   "execution_count": 7,
   "id": "81450410-a1ef-4f88-86d0-79b6cfe4e09c",
   "metadata": {},
   "outputs": [
    {
     "name": "stdout",
     "output_type": "stream",
     "text": [
      "    Name  MonthlyIncome(Rs.)\n",
      "0  Kumar              253530\n",
      "1   Shah              281400\n",
      "2   Vats              335050\n"
     ]
    }
   ],
   "source": [
    "family_gross_income = df.groupby('Name')['MonthlyIncome(Rs.)'].sum().reset_index()\n",
    "print(family_gross_income)"
   ]
  },
  {
   "cell_type": "code",
   "execution_count": 9,
   "id": "91e825a6-e77e-4e5b-8820-061d6cbf8b6d",
   "metadata": {},
   "outputs": [
    {
     "name": "stdout",
     "output_type": "stream",
     "text": [
      "    Name  Gender  MonthlyIncome(Rs.)\n",
      "5  Kumar    Male              103000\n",
      "0   Shah    Male              114000\n",
      "4   Vats  Female              155000\n"
     ]
    }
   ],
   "source": [
    "maxIncomer = df.loc[df.groupby('Name')['MonthlyIncome(Rs.)'].idxmax()]\n",
    "print(maxIncomer[['Name', 'Gender', 'MonthlyIncome(Rs.)']])"
   ]
  },
  {
   "cell_type": "code",
   "execution_count": 10,
   "id": "f3ab2230-0464-4d9c-bbc1-138d9f4bf595",
   "metadata": {},
   "outputs": [
    {
     "name": "stdout",
     "output_type": "stream",
     "text": [
      "    Name  Gender  MonthlyIncome(Rs.)\n",
      "0   Shah    Male              114000\n",
      "1   Vats    Male               65000\n",
      "3  Kumar  Female               69500\n",
      "4   Vats  Female              155000\n",
      "5  Kumar    Male              103000\n",
      "7   Shah  Female              112400\n",
      "8  Kumar  Female               81030\n",
      "9   Vats    Male               71900\n"
     ]
    }
   ],
   "source": [
    "inc = df[df['MonthlyIncome(Rs.)'] > 60000.00]\n",
    "print(inc)"
   ]
  },
  {
   "cell_type": "code",
   "execution_count": 14,
   "id": "f13ddd54-3363-4fd2-8efb-c87ae9f52455",
   "metadata": {},
   "outputs": [],
   "source": [
    "femaleMem = df[(df['Name'] == 'Shah') & (df['Gender'] == 'Female')]"
   ]
  },
  {
   "cell_type": "code",
   "execution_count": 20,
   "id": "30848c02-b426-485e-a1b3-b7958e57a66b",
   "metadata": {},
   "outputs": [
    {
     "name": "stdout",
     "output_type": "stream",
     "text": [
      "112400.0\n"
     ]
    }
   ],
   "source": [
    "avgInc = femaleMem['MonthlyIncome(Rs.)'].mean()\n",
    "print(avgInc)"
   ]
  },
  {
   "cell_type": "raw",
   "id": "88a2f5ee-672c-468f-acec-d1544ca7d5c3",
   "metadata": {},
   "source": []
  },
  {
   "cell_type": "code",
   "execution_count": null,
   "id": "81591fe1-9d09-4611-aa52-30537968ae20",
   "metadata": {},
   "outputs": [],
   "source": []
  }
 ],
 "metadata": {
  "kernelspec": {
   "display_name": "Python 3 (ipykernel)",
   "language": "python",
   "name": "python3"
  },
  "language_info": {
   "codemirror_mode": {
    "name": "ipython",
    "version": 3
   },
   "file_extension": ".py",
   "mimetype": "text/x-python",
   "name": "python",
   "nbconvert_exporter": "python",
   "pygments_lexer": "ipython3",
   "version": "3.11.5"
  }
 },
 "nbformat": 4,
 "nbformat_minor": 5
}
