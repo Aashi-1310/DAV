{
  "cells": [
    {
      "cell_type": "code",
      "execution_count": 10,
      "id": "87561b57",
      "metadata": {
        "colab": {
          "base_uri": "https://localhost:8080/"
        },
        "id": "87561b57",
        "outputId": "718fcfe7-e56a-449c-ac80-a55a04c1cc52"
      },
      "outputs": [
        {
          "output_type": "stream",
          "name": "stdout",
          "text": [
            "[[19 14  7  1  8]\n",
            " [ 3 14  5  8  9]\n",
            " [15  7 11  8  3]\n",
            " [19  7 15  6  7]]\n"
          ]
        }
      ],
      "source": [
        "import numpy as np\n",
        "ar=np.random.randint(20,size=(4,5))\n",
        "print(ar)"
      ]
    },
    {
      "cell_type": "code",
      "execution_count": 2,
      "id": "3aef3acf",
      "metadata": {
        "colab": {
          "base_uri": "https://localhost:8080/"
        },
        "id": "3aef3acf",
        "outputId": "b386e8b4-5021-42ed-9524-c052df4600a7"
      },
      "outputs": [
        {
          "output_type": "stream",
          "name": "stdout",
          "text": [
            "Mean: [6.6 7.4 6.  6.6]\n",
            "Standard deviation: [3.92937654 4.22374242 5.5136195  3.92937654]\n",
            "Variance: [15.44 17.84 30.4  15.44]\n"
          ]
        }
      ],
      "source": [
        "print(\"Mean:\",ar.mean(axis=1))\n",
        "print(\"Standard deviation:\",ar.std(axis=1))\n",
        "print(\"Variance:\", ar.var(axis=1))"
      ]
    },
    {
      "cell_type": "code",
      "execution_count": 3,
      "id": "c9c3e302",
      "metadata": {
        "colab": {
          "base_uri": "https://localhost:8080/"
        },
        "id": "c9c3e302",
        "outputId": "7b254495-3c5b-4733-8955-31da9e54fd96"
      },
      "outputs": [
        {
          "output_type": "stream",
          "name": "stdout",
          "text": [
            "[56 48 22 41 78 91 24 46  8 33]\n",
            "[ 8 22 24 33 41 46 48 56 78 91]\n",
            "56 is at index: 7\n",
            "\n",
            "48 is at index: 6\n",
            "\n",
            "22 is at index: 1\n",
            "\n",
            "41 is at index: 4\n",
            "\n",
            "78 is at index: 8\n",
            "\n",
            "91 is at index: 9\n",
            "\n",
            "24 is at index: 2\n",
            "\n",
            "46 is at index: 5\n",
            "\n",
            "8 is at index: 0\n",
            "\n",
            "33 is at index: 3\n",
            "\n"
          ]
        }
      ],
      "source": [
        "b=np.array([56,48,22,41,78,91,24,46,8,33])\n",
        "a=np.array([56,48,22,41,78,91,24,46,8,33])\n",
        "b.sort()\n",
        "print(a)\n",
        "print(b)\n",
        "for i in range(len(a)):\n",
        "    print(a[i],\"is at index:\",end=\" \")\n",
        "    for j in range(len(b)):\n",
        "        if(a[i]==b[j]):\n",
        "            print(j)\n",
        "            print()\n",
        ""
      ]
    },
    {
      "cell_type": "code",
      "execution_count": 4,
      "id": "a68b3137",
      "metadata": {
        "colab": {
          "base_uri": "https://localhost:8080/"
        },
        "id": "a68b3137",
        "outputId": "6cec0113-e867-48e5-c04f-8304641bf0b2"
      },
      "outputs": [
        {
          "output_type": "stream",
          "name": "stdout",
          "text": [
            "Enter number of Rows:6\n",
            "Enter number of Columns:3\n",
            "[[ 9 13  0]\n",
            " [11  5  0]\n",
            " [ 1 12 17]\n",
            " [15  5 12]\n",
            " [ 9  7  7]\n",
            " [11  5  9]]\n",
            "The shape of the array is: (6, 3)\n",
            "The array is of data type: int64\n",
            "the type of aray is: <class 'numpy.ndarray'>\n",
            "The reshaped array is:\n",
            "[[ 9 13  0 11  5  0]\n",
            " [ 1 12 17 15  5 12]\n",
            " [ 9  7  7 11  5  9]]\n"
          ]
        }
      ],
      "source": [
        "n=int(input(\"Enter number of Rows:\"))\n",
        "m=int(input(\"Enter number of Columns:\"))\n",
        "arr=np.random.randint(n*m,size=(n,m))\n",
        "print(arr)\n",
        "print(\"The shape of the array is:\", arr.shape)\n",
        "print(\"The array is of data type:\",arr.dtype)\n",
        "print(\"the type of aray is:\", type(arr))\n",
        "arrt=arr.reshape(m,n)\n",
        "print(\"The reshaped array is:\")\n",
        "print(arrt)"
      ]
    },
    {
      "cell_type": "code",
      "execution_count": 12,
      "id": "b62424e3",
      "metadata": {
        "colab": {
          "base_uri": "https://localhost:8080/"
        },
        "id": "b62424e3",
        "outputId": "4e9da6e3-c833-4bad-a02e-49364a4437d4"
      },
      "outputs": [
        {
          "output_type": "stream",
          "name": "stdout",
          "text": [
            "[ 1.  2.  3.  0.  8. nan  0.  5.  7. nan]\n",
            "[3, 6]\n",
            "[0, 1, 2, 4, 7, 8]\n",
            "[5, 9]\n"
          ]
        }
      ],
      "source": [
        "x=np.array([1,2,3,0,8,np.nan,0,5,7,np.nan])\n",
        "print(x)\n",
        "z=[]\n",
        "nz=[]\n",
        "na=[]\n",
        "ns=np.isnan(x)\n",
        "for i in range(len(x)):\n",
        "    if x[i]==0:\n",
        "        z.append(i)\n",
        "    elif ns[i]:\n",
        "        na.append(i)\n",
        "    else:\n",
        "        nz.append(i)\n",
        "print(z)\n",
        "print(nz)\n",
        "print(na)"
      ]
    },
    {
      "cell_type": "code",
      "execution_count": null,
      "id": "279eeac6",
      "metadata": {
        "id": "279eeac6"
      },
      "outputs": [],
      "source": []
    }
  ],
  "metadata": {
    "kernelspec": {
      "display_name": "Python 3 (ipykernel)",
      "language": "python",
      "name": "python3"
    },
    "language_info": {
      "codemirror_mode": {
        "name": "ipython",
        "version": 3
      },
      "file_extension": ".py",
      "mimetype": "text/x-python",
      "name": "python",
      "nbconvert_exporter": "python",
      "pygments_lexer": "ipython3",
      "version": "3.9.13"
    },
    "colab": {
      "provenance": []
    }
  },
  "nbformat": 4,
  "nbformat_minor": 5
}